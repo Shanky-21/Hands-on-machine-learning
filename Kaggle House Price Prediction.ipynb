{
 "cells": [
  {
   "cell_type": "code",
   "execution_count": 1,
   "metadata": {
    "_cell_guid": "b1076dfc-b9ad-4769-8c92-a6c4dae69d19",
    "_uuid": "8f2839f25d086af736a60e9eeb907d3b93b6e0e5",
    "execution": {
     "iopub.execute_input": "2021-06-04T10:08:09.681167Z",
     "iopub.status.busy": "2021-06-04T10:08:09.680722Z",
     "iopub.status.idle": "2021-06-04T10:08:09.697077Z",
     "shell.execute_reply": "2021-06-04T10:08:09.696096Z",
     "shell.execute_reply.started": "2021-06-04T10:08:09.681070Z"
    }
   },
   "outputs": [],
   "source": [
    "# This Python 3 environment comes with many helpful analytics libraries installed\n",
    "# It is defined by the kaggle/python Docker image: https://github.com/kaggle/docker-python\n",
    "# For example, here's several helpful packages to load\n",
    "\n",
    "import numpy as np # linear algebra\n",
    "import pandas as pd # data processing, CSV file I/O (e.g. pd.read_csv)\n",
    "\n",
    "# Input data files are available in the read-only \"../input/\" directory\n",
    "# For example, running this (by clicking run or pressing Shift+Enter) will list all files under the input directory\n",
    "\n",
    "import os\n",
    "for dirname, _, filenames in os.walk('/kaggle/input'):\n",
    "    for filename in filenames:\n",
    "        print(os.path.join(dirname, filename))\n",
    "\n",
    "# You can write up to 20GB to the current directory (/kaggle/working/) that gets preserved as output when you create a version using \"Save & Run All\" \n",
    "# You can also write temporary files to /kaggle/temp/, but they won't be saved outside of the current session"
   ]
  },
  {
   "cell_type": "code",
   "execution_count": 2,
   "metadata": {
    "execution": {
     "iopub.execute_input": "2021-06-04T10:08:12.378401Z",
     "iopub.status.busy": "2021-06-04T10:08:12.378010Z",
     "iopub.status.idle": "2021-06-04T10:08:12.470398Z",
     "shell.execute_reply": "2021-06-04T10:08:12.469413Z",
     "shell.execute_reply.started": "2021-06-04T10:08:12.378367Z"
    }
   },
   "outputs": [
    {
     "ename": "FileNotFoundError",
     "evalue": "[Errno 2] File b'/kaggle/input/house-prices-advanced-regression-techniques/train.csv' does not exist: b'/kaggle/input/house-prices-advanced-regression-techniques/train.csv'",
     "output_type": "error",
     "traceback": [
      "\u001b[1;31m---------------------------------------------------------------------------\u001b[0m",
      "\u001b[1;31mFileNotFoundError\u001b[0m                         Traceback (most recent call last)",
      "\u001b[1;32m<ipython-input-2-e575d4312146>\u001b[0m in \u001b[0;36m<module>\u001b[1;34m\u001b[0m\n\u001b[1;32m----> 1\u001b[1;33m \u001b[0mhousing\u001b[0m \u001b[1;33m=\u001b[0m \u001b[0mpd\u001b[0m\u001b[1;33m.\u001b[0m\u001b[0mread_csv\u001b[0m\u001b[1;33m(\u001b[0m\u001b[1;34m\"/kaggle/input/house-prices-advanced-regression-techniques/train.csv\"\u001b[0m\u001b[1;33m)\u001b[0m\u001b[1;33m\u001b[0m\u001b[1;33m\u001b[0m\u001b[0m\n\u001b[0m\u001b[0;32m      2\u001b[0m \u001b[0mTest\u001b[0m \u001b[1;33m=\u001b[0m \u001b[0mpd\u001b[0m\u001b[1;33m.\u001b[0m\u001b[0mread_csv\u001b[0m\u001b[1;33m(\u001b[0m\u001b[1;34m\"/kaggle/input/house-prices-advanced-regression-techniques/test.csv\"\u001b[0m\u001b[1;33m)\u001b[0m\u001b[1;33m\u001b[0m\u001b[1;33m\u001b[0m\u001b[0m\n\u001b[0;32m      3\u001b[0m \u001b[0msample_submission\u001b[0m \u001b[1;33m=\u001b[0m \u001b[0mpd\u001b[0m\u001b[1;33m.\u001b[0m\u001b[0mread_csv\u001b[0m\u001b[1;33m(\u001b[0m\u001b[1;34m\"/kaggle/input/house-prices-advanced-regression-techniques/sample_submission.csv\"\u001b[0m\u001b[1;33m)\u001b[0m\u001b[1;33m\u001b[0m\u001b[1;33m\u001b[0m\u001b[0m\n\u001b[0;32m      4\u001b[0m \u001b[0mfile\u001b[0m \u001b[1;33m=\u001b[0m \u001b[0mopen\u001b[0m\u001b[1;33m(\u001b[0m\u001b[1;34m\"/kaggle/input/house-prices-advanced-regression-techniques/data_description.txt\"\u001b[0m\u001b[1;33m,\u001b[0m\u001b[1;34m\"r\"\u001b[0m\u001b[1;33m)\u001b[0m\u001b[1;33m\u001b[0m\u001b[1;33m\u001b[0m\u001b[0m\n\u001b[0;32m      5\u001b[0m \u001b[0mprint\u001b[0m\u001b[1;33m(\u001b[0m\u001b[0mfile\u001b[0m\u001b[1;33m.\u001b[0m\u001b[0mread\u001b[0m\u001b[1;33m(\u001b[0m\u001b[1;33m)\u001b[0m\u001b[1;33m)\u001b[0m\u001b[1;33m\u001b[0m\u001b[1;33m\u001b[0m\u001b[0m\n",
      "\u001b[1;32m~\\Anaconda3\\lib\\site-packages\\pandas\\io\\parsers.py\u001b[0m in \u001b[0;36mparser_f\u001b[1;34m(filepath_or_buffer, sep, delimiter, header, names, index_col, usecols, squeeze, prefix, mangle_dupe_cols, dtype, engine, converters, true_values, false_values, skipinitialspace, skiprows, skipfooter, nrows, na_values, keep_default_na, na_filter, verbose, skip_blank_lines, parse_dates, infer_datetime_format, keep_date_col, date_parser, dayfirst, iterator, chunksize, compression, thousands, decimal, lineterminator, quotechar, quoting, doublequote, escapechar, comment, encoding, dialect, tupleize_cols, error_bad_lines, warn_bad_lines, delim_whitespace, low_memory, memory_map, float_precision)\u001b[0m\n\u001b[0;32m    700\u001b[0m                     skip_blank_lines=skip_blank_lines)\n\u001b[0;32m    701\u001b[0m \u001b[1;33m\u001b[0m\u001b[0m\n\u001b[1;32m--> 702\u001b[1;33m         \u001b[1;32mreturn\u001b[0m \u001b[0m_read\u001b[0m\u001b[1;33m(\u001b[0m\u001b[0mfilepath_or_buffer\u001b[0m\u001b[1;33m,\u001b[0m \u001b[0mkwds\u001b[0m\u001b[1;33m)\u001b[0m\u001b[1;33m\u001b[0m\u001b[1;33m\u001b[0m\u001b[0m\n\u001b[0m\u001b[0;32m    703\u001b[0m \u001b[1;33m\u001b[0m\u001b[0m\n\u001b[0;32m    704\u001b[0m     \u001b[0mparser_f\u001b[0m\u001b[1;33m.\u001b[0m\u001b[0m__name__\u001b[0m \u001b[1;33m=\u001b[0m \u001b[0mname\u001b[0m\u001b[1;33m\u001b[0m\u001b[1;33m\u001b[0m\u001b[0m\n",
      "\u001b[1;32m~\\Anaconda3\\lib\\site-packages\\pandas\\io\\parsers.py\u001b[0m in \u001b[0;36m_read\u001b[1;34m(filepath_or_buffer, kwds)\u001b[0m\n\u001b[0;32m    427\u001b[0m \u001b[1;33m\u001b[0m\u001b[0m\n\u001b[0;32m    428\u001b[0m     \u001b[1;31m# Create the parser.\u001b[0m\u001b[1;33m\u001b[0m\u001b[1;33m\u001b[0m\u001b[1;33m\u001b[0m\u001b[0m\n\u001b[1;32m--> 429\u001b[1;33m     \u001b[0mparser\u001b[0m \u001b[1;33m=\u001b[0m \u001b[0mTextFileReader\u001b[0m\u001b[1;33m(\u001b[0m\u001b[0mfilepath_or_buffer\u001b[0m\u001b[1;33m,\u001b[0m \u001b[1;33m**\u001b[0m\u001b[0mkwds\u001b[0m\u001b[1;33m)\u001b[0m\u001b[1;33m\u001b[0m\u001b[1;33m\u001b[0m\u001b[0m\n\u001b[0m\u001b[0;32m    430\u001b[0m \u001b[1;33m\u001b[0m\u001b[0m\n\u001b[0;32m    431\u001b[0m     \u001b[1;32mif\u001b[0m \u001b[0mchunksize\u001b[0m \u001b[1;32mor\u001b[0m \u001b[0miterator\u001b[0m\u001b[1;33m:\u001b[0m\u001b[1;33m\u001b[0m\u001b[1;33m\u001b[0m\u001b[0m\n",
      "\u001b[1;32m~\\Anaconda3\\lib\\site-packages\\pandas\\io\\parsers.py\u001b[0m in \u001b[0;36m__init__\u001b[1;34m(self, f, engine, **kwds)\u001b[0m\n\u001b[0;32m    893\u001b[0m             \u001b[0mself\u001b[0m\u001b[1;33m.\u001b[0m\u001b[0moptions\u001b[0m\u001b[1;33m[\u001b[0m\u001b[1;34m'has_index_names'\u001b[0m\u001b[1;33m]\u001b[0m \u001b[1;33m=\u001b[0m \u001b[0mkwds\u001b[0m\u001b[1;33m[\u001b[0m\u001b[1;34m'has_index_names'\u001b[0m\u001b[1;33m]\u001b[0m\u001b[1;33m\u001b[0m\u001b[1;33m\u001b[0m\u001b[0m\n\u001b[0;32m    894\u001b[0m \u001b[1;33m\u001b[0m\u001b[0m\n\u001b[1;32m--> 895\u001b[1;33m         \u001b[0mself\u001b[0m\u001b[1;33m.\u001b[0m\u001b[0m_make_engine\u001b[0m\u001b[1;33m(\u001b[0m\u001b[0mself\u001b[0m\u001b[1;33m.\u001b[0m\u001b[0mengine\u001b[0m\u001b[1;33m)\u001b[0m\u001b[1;33m\u001b[0m\u001b[1;33m\u001b[0m\u001b[0m\n\u001b[0m\u001b[0;32m    896\u001b[0m \u001b[1;33m\u001b[0m\u001b[0m\n\u001b[0;32m    897\u001b[0m     \u001b[1;32mdef\u001b[0m \u001b[0mclose\u001b[0m\u001b[1;33m(\u001b[0m\u001b[0mself\u001b[0m\u001b[1;33m)\u001b[0m\u001b[1;33m:\u001b[0m\u001b[1;33m\u001b[0m\u001b[1;33m\u001b[0m\u001b[0m\n",
      "\u001b[1;32m~\\Anaconda3\\lib\\site-packages\\pandas\\io\\parsers.py\u001b[0m in \u001b[0;36m_make_engine\u001b[1;34m(self, engine)\u001b[0m\n\u001b[0;32m   1120\u001b[0m     \u001b[1;32mdef\u001b[0m \u001b[0m_make_engine\u001b[0m\u001b[1;33m(\u001b[0m\u001b[0mself\u001b[0m\u001b[1;33m,\u001b[0m \u001b[0mengine\u001b[0m\u001b[1;33m=\u001b[0m\u001b[1;34m'c'\u001b[0m\u001b[1;33m)\u001b[0m\u001b[1;33m:\u001b[0m\u001b[1;33m\u001b[0m\u001b[1;33m\u001b[0m\u001b[0m\n\u001b[0;32m   1121\u001b[0m         \u001b[1;32mif\u001b[0m \u001b[0mengine\u001b[0m \u001b[1;33m==\u001b[0m \u001b[1;34m'c'\u001b[0m\u001b[1;33m:\u001b[0m\u001b[1;33m\u001b[0m\u001b[1;33m\u001b[0m\u001b[0m\n\u001b[1;32m-> 1122\u001b[1;33m             \u001b[0mself\u001b[0m\u001b[1;33m.\u001b[0m\u001b[0m_engine\u001b[0m \u001b[1;33m=\u001b[0m \u001b[0mCParserWrapper\u001b[0m\u001b[1;33m(\u001b[0m\u001b[0mself\u001b[0m\u001b[1;33m.\u001b[0m\u001b[0mf\u001b[0m\u001b[1;33m,\u001b[0m \u001b[1;33m**\u001b[0m\u001b[0mself\u001b[0m\u001b[1;33m.\u001b[0m\u001b[0moptions\u001b[0m\u001b[1;33m)\u001b[0m\u001b[1;33m\u001b[0m\u001b[1;33m\u001b[0m\u001b[0m\n\u001b[0m\u001b[0;32m   1123\u001b[0m         \u001b[1;32melse\u001b[0m\u001b[1;33m:\u001b[0m\u001b[1;33m\u001b[0m\u001b[1;33m\u001b[0m\u001b[0m\n\u001b[0;32m   1124\u001b[0m             \u001b[1;32mif\u001b[0m \u001b[0mengine\u001b[0m \u001b[1;33m==\u001b[0m \u001b[1;34m'python'\u001b[0m\u001b[1;33m:\u001b[0m\u001b[1;33m\u001b[0m\u001b[1;33m\u001b[0m\u001b[0m\n",
      "\u001b[1;32m~\\Anaconda3\\lib\\site-packages\\pandas\\io\\parsers.py\u001b[0m in \u001b[0;36m__init__\u001b[1;34m(self, src, **kwds)\u001b[0m\n\u001b[0;32m   1851\u001b[0m         \u001b[0mkwds\u001b[0m\u001b[1;33m[\u001b[0m\u001b[1;34m'usecols'\u001b[0m\u001b[1;33m]\u001b[0m \u001b[1;33m=\u001b[0m \u001b[0mself\u001b[0m\u001b[1;33m.\u001b[0m\u001b[0musecols\u001b[0m\u001b[1;33m\u001b[0m\u001b[1;33m\u001b[0m\u001b[0m\n\u001b[0;32m   1852\u001b[0m \u001b[1;33m\u001b[0m\u001b[0m\n\u001b[1;32m-> 1853\u001b[1;33m         \u001b[0mself\u001b[0m\u001b[1;33m.\u001b[0m\u001b[0m_reader\u001b[0m \u001b[1;33m=\u001b[0m \u001b[0mparsers\u001b[0m\u001b[1;33m.\u001b[0m\u001b[0mTextReader\u001b[0m\u001b[1;33m(\u001b[0m\u001b[0msrc\u001b[0m\u001b[1;33m,\u001b[0m \u001b[1;33m**\u001b[0m\u001b[0mkwds\u001b[0m\u001b[1;33m)\u001b[0m\u001b[1;33m\u001b[0m\u001b[1;33m\u001b[0m\u001b[0m\n\u001b[0m\u001b[0;32m   1854\u001b[0m         \u001b[0mself\u001b[0m\u001b[1;33m.\u001b[0m\u001b[0munnamed_cols\u001b[0m \u001b[1;33m=\u001b[0m \u001b[0mself\u001b[0m\u001b[1;33m.\u001b[0m\u001b[0m_reader\u001b[0m\u001b[1;33m.\u001b[0m\u001b[0munnamed_cols\u001b[0m\u001b[1;33m\u001b[0m\u001b[1;33m\u001b[0m\u001b[0m\n\u001b[0;32m   1855\u001b[0m \u001b[1;33m\u001b[0m\u001b[0m\n",
      "\u001b[1;32mpandas/_libs/parsers.pyx\u001b[0m in \u001b[0;36mpandas._libs.parsers.TextReader.__cinit__\u001b[1;34m()\u001b[0m\n",
      "\u001b[1;32mpandas/_libs/parsers.pyx\u001b[0m in \u001b[0;36mpandas._libs.parsers.TextReader._setup_parser_source\u001b[1;34m()\u001b[0m\n",
      "\u001b[1;31mFileNotFoundError\u001b[0m: [Errno 2] File b'/kaggle/input/house-prices-advanced-regression-techniques/train.csv' does not exist: b'/kaggle/input/house-prices-advanced-regression-techniques/train.csv'"
     ]
    }
   ],
   "source": [
    "housing = pd.read_csv(\"/kaggle/input/house-prices-advanced-regression-techniques/train.csv\")\n",
    "Test = pd.read_csv(\"/kaggle/input/house-prices-advanced-regression-techniques/test.csv\")\n",
    "sample_submission = pd.read_csv(\"/kaggle/input/house-prices-advanced-regression-techniques/sample_submission.csv\")\n",
    "file = open(\"/kaggle/input/house-prices-advanced-regression-techniques/data_description.txt\",\"r\")\n",
    "print(file.read())"
   ]
  },
  {
   "cell_type": "code",
   "execution_count": null,
   "metadata": {
    "execution": {
     "iopub.execute_input": "2021-06-04T10:08:58.766687Z",
     "iopub.status.busy": "2021-06-04T10:08:58.766283Z",
     "iopub.status.idle": "2021-06-04T10:08:58.810911Z",
     "shell.execute_reply": "2021-06-04T10:08:58.810175Z",
     "shell.execute_reply.started": "2021-06-04T10:08:58.766651Z"
    }
   },
   "outputs": [],
   "source": [
    "housing.head()"
   ]
  },
  {
   "cell_type": "code",
   "execution_count": null,
   "metadata": {
    "execution": {
     "iopub.execute_input": "2021-06-04T10:09:07.600633Z",
     "iopub.status.busy": "2021-06-04T10:09:07.600267Z",
     "iopub.status.idle": "2021-06-04T10:09:07.634714Z",
     "shell.execute_reply": "2021-06-04T10:09:07.633929Z",
     "shell.execute_reply.started": "2021-06-04T10:09:07.600604Z"
    }
   },
   "outputs": [],
   "source": [
    "housing.info()"
   ]
  },
  {
   "cell_type": "code",
   "execution_count": null,
   "metadata": {
    "execution": {
     "iopub.execute_input": "2021-06-04T10:12:50.638337Z",
     "iopub.status.busy": "2021-06-04T10:12:50.637952Z",
     "iopub.status.idle": "2021-06-04T10:12:50.652602Z",
     "shell.execute_reply": "2021-06-04T10:12:50.651400Z",
     "shell.execute_reply.started": "2021-06-04T10:12:50.638306Z"
    }
   },
   "outputs": [],
   "source": [
    "corr_matrix = housing.corr()"
   ]
  },
  {
   "cell_type": "code",
   "execution_count": null,
   "metadata": {
    "execution": {
     "iopub.execute_input": "2021-06-04T10:16:50.322613Z",
     "iopub.status.busy": "2021-06-04T10:16:50.322056Z",
     "iopub.status.idle": "2021-06-04T10:16:50.333081Z",
     "shell.execute_reply": "2021-06-04T10:16:50.332003Z",
     "shell.execute_reply.started": "2021-06-04T10:16:50.322565Z"
    }
   },
   "outputs": [],
   "source": [
    "housing['SalePrice'].describe()"
   ]
  },
  {
   "cell_type": "code",
   "execution_count": null,
   "metadata": {
    "execution": {
     "iopub.execute_input": "2021-06-04T10:12:52.496610Z",
     "iopub.status.busy": "2021-06-04T10:12:52.496261Z",
     "iopub.status.idle": "2021-06-04T10:12:52.505821Z",
     "shell.execute_reply": "2021-06-04T10:12:52.504695Z",
     "shell.execute_reply.started": "2021-06-04T10:12:52.496581Z"
    }
   },
   "outputs": [],
   "source": [
    "corr_matrix['SalePrice'].sort_values(ascending = False)"
   ]
  },
  {
   "cell_type": "code",
   "execution_count": null,
   "metadata": {
    "execution": {
     "iopub.execute_input": "2021-06-04T10:28:24.142849Z",
     "iopub.status.busy": "2021-06-04T10:28:24.142455Z",
     "iopub.status.idle": "2021-06-04T10:28:31.820396Z",
     "shell.execute_reply": "2021-06-04T10:28:31.819381Z",
     "shell.execute_reply.started": "2021-06-04T10:28:24.142810Z"
    }
   },
   "outputs": [],
   "source": [
    "%matplotlib inline\n",
    "import matplotlib.pyplot as plt\n",
    "housing.hist(bins = 50, figsize = (20,20))\n",
    "plt.show()"
   ]
  },
  {
   "cell_type": "code",
   "execution_count": null,
   "metadata": {
    "execution": {
     "iopub.execute_input": "2021-06-04T10:28:31.822175Z",
     "iopub.status.busy": "2021-06-04T10:28:31.821870Z",
     "iopub.status.idle": "2021-06-04T10:28:31.827411Z",
     "shell.execute_reply": "2021-06-04T10:28:31.826524Z",
     "shell.execute_reply.started": "2021-06-04T10:28:31.822148Z"
    }
   },
   "outputs": [],
   "source": [
    "Check_columns = [\"OverallQual\",\"GrLivArea\",\"GarageCars\",\"GarageArea\",\"TotalBsmtSF\",\"1stFlrSF\",\"FullBath\",\n",
    "           \"TotRmsAbvGrd\",\"YearBuilt\",\"YearRemodAdd\",\"GarageYrBlt\",\"MasVnrArea\",\"Fireplaces\"]"
   ]
  },
  {
   "cell_type": "code",
   "execution_count": null,
   "metadata": {
    "execution": {
     "iopub.execute_input": "2021-06-04T10:28:36.194701Z",
     "iopub.status.busy": "2021-06-04T10:28:36.194348Z",
     "iopub.status.idle": "2021-06-04T10:28:37.485537Z",
     "shell.execute_reply": "2021-06-04T10:28:37.484695Z",
     "shell.execute_reply.started": "2021-06-04T10:28:36.194671Z"
    }
   },
   "outputs": [],
   "source": [
    "small_train = housing[Check_columns]\n",
    "small_labels = housing['SalePrice']\n",
    "\n",
    "#mean = small_train.mean()\n",
    "#small_train.fillna(,inplace = True)\n",
    "\n",
    "\n",
    "from sklearn.linear_model import LinearRegression\n",
    "lin_reg = LinearRegression()\n",
    "#lin_reg.fit(small_train,small_labels)"
   ]
  },
  {
   "cell_type": "code",
   "execution_count": null,
   "metadata": {
    "execution": {
     "iopub.execute_input": "2021-06-04T10:28:38.951973Z",
     "iopub.status.busy": "2021-06-04T10:28:38.951627Z",
     "iopub.status.idle": "2021-06-04T10:28:39.006083Z",
     "shell.execute_reply": "2021-06-04T10:28:39.005112Z",
     "shell.execute_reply.started": "2021-06-04T10:28:38.951945Z"
    }
   },
   "outputs": [],
   "source": [
    "small_train.describe()"
   ]
  },
  {
   "cell_type": "code",
   "execution_count": null,
   "metadata": {
    "execution": {
     "iopub.execute_input": "2021-06-04T10:28:40.785530Z",
     "iopub.status.busy": "2021-06-04T10:28:40.785146Z",
     "iopub.status.idle": "2021-06-04T10:28:40.791843Z",
     "shell.execute_reply": "2021-06-04T10:28:40.790698Z",
     "shell.execute_reply.started": "2021-06-04T10:28:40.785492Z"
    }
   },
   "outputs": [],
   "source": [
    "median_garage = small_train[\"GarageYrBlt\"].median()\n",
    "median_MasVnrArea = small_train[\"MasVnrArea\"].median()"
   ]
  },
  {
   "cell_type": "code",
   "execution_count": null,
   "metadata": {
    "execution": {
     "iopub.execute_input": "2021-06-04T10:28:41.440224Z",
     "iopub.status.busy": "2021-06-04T10:28:41.439831Z",
     "iopub.status.idle": "2021-06-04T10:28:41.451131Z",
     "shell.execute_reply": "2021-06-04T10:28:41.449980Z",
     "shell.execute_reply.started": "2021-06-04T10:28:41.440193Z"
    }
   },
   "outputs": [],
   "source": [
    "small_train['GarageYrBlt'].fillna(median_garage, inplace = True)\n",
    "small_train['MasVnrArea'].fillna(median_MasVnrArea, inplace = True)"
   ]
  },
  {
   "cell_type": "code",
   "execution_count": null,
   "metadata": {
    "execution": {
     "iopub.execute_input": "2021-06-04T10:28:41.927402Z",
     "iopub.status.busy": "2021-06-04T10:28:41.927004Z",
     "iopub.status.idle": "2021-06-04T10:28:41.953754Z",
     "shell.execute_reply": "2021-06-04T10:28:41.952667Z",
     "shell.execute_reply.started": "2021-06-04T10:28:41.927365Z"
    }
   },
   "outputs": [],
   "source": [
    "lin_reg.fit(small_train,small_labels)"
   ]
  },
  {
   "cell_type": "code",
   "execution_count": null,
   "metadata": {
    "execution": {
     "iopub.execute_input": "2021-06-04T10:28:42.688213Z",
     "iopub.status.busy": "2021-06-04T10:28:42.687827Z",
     "iopub.status.idle": "2021-06-04T10:28:42.697218Z",
     "shell.execute_reply": "2021-06-04T10:28:42.695612Z",
     "shell.execute_reply.started": "2021-06-04T10:28:42.688181Z"
    }
   },
   "outputs": [],
   "source": [
    "sample_predictions = lin_reg.predict(small_train)"
   ]
  },
  {
   "cell_type": "code",
   "execution_count": null,
   "metadata": {
    "execution": {
     "iopub.execute_input": "2021-06-04T10:28:43.854803Z",
     "iopub.status.busy": "2021-06-04T10:28:43.854157Z",
     "iopub.status.idle": "2021-06-04T10:28:43.860698Z",
     "shell.execute_reply": "2021-06-04T10:28:43.859795Z",
     "shell.execute_reply.started": "2021-06-04T10:28:43.854756Z"
    }
   },
   "outputs": [],
   "source": [
    "print(sample_predictions[:5],list(small_labels[:5]))"
   ]
  },
  {
   "cell_type": "code",
   "execution_count": null,
   "metadata": {
    "execution": {
     "iopub.execute_input": "2021-06-04T10:28:44.637714Z",
     "iopub.status.busy": "2021-06-04T10:28:44.637198Z",
     "iopub.status.idle": "2021-06-04T10:28:44.644669Z",
     "shell.execute_reply": "2021-06-04T10:28:44.643755Z",
     "shell.execute_reply.started": "2021-06-04T10:28:44.637682Z"
    }
   },
   "outputs": [],
   "source": [
    "from sklearn.metrics import mean_squared_error\n",
    "\n",
    "lin_mse = mean_squared_error(small_labels, sample_predictions)\n",
    "lin_rmse = np.sqrt(lin_mse)\n",
    "lin_rmse"
   ]
  },
  {
   "cell_type": "code",
   "execution_count": null,
   "metadata": {
    "execution": {
     "iopub.execute_input": "2021-06-04T10:28:46.840836Z",
     "iopub.status.busy": "2021-06-04T10:28:46.840273Z",
     "iopub.status.idle": "2021-06-04T10:28:47.860144Z",
     "shell.execute_reply": "2021-06-04T10:28:47.859144Z",
     "shell.execute_reply.started": "2021-06-04T10:28:46.840802Z"
    }
   },
   "outputs": [],
   "source": [
    "from sklearn.ensemble import RandomForestRegressor\n",
    "Random_F = RandomForestRegressor()\n",
    "Random_F.fit(small_train,small_labels)\n",
    "sample_predictions2 = Random_F.predict(small_train)\n",
    "Ran_mse = mean_squared_error(small_labels, sample_predictions2)\n",
    "Ran_rmse = np.sqrt(Ran_mse)\n",
    "Ran_rmse"
   ]
  },
  {
   "cell_type": "code",
   "execution_count": null,
   "metadata": {
    "execution": {
     "iopub.execute_input": "2021-06-04T10:28:49.954393Z",
     "iopub.status.busy": "2021-06-04T10:28:49.953987Z",
     "iopub.status.idle": "2021-06-04T10:28:49.980583Z",
     "shell.execute_reply": "2021-06-04T10:28:49.979578Z",
     "shell.execute_reply.started": "2021-06-04T10:28:49.954361Z"
    }
   },
   "outputs": [],
   "source": [
    "from sklearn.tree import DecisionTreeRegressor\n",
    "tree_reg = DecisionTreeRegressor()\n",
    "tree_reg.fit(small_train,small_labels)\n",
    "sample_prediction3 = tree_reg.predict(small_train)\n",
    "Tree_mse = mean_squared_error(small_labels, sample_prediction3)\n",
    "Tree_rmse = np.sqrt(Tree_mse)\n",
    "Tree_rmse"
   ]
  },
  {
   "cell_type": "code",
   "execution_count": null,
   "metadata": {
    "execution": {
     "iopub.execute_input": "2021-06-04T10:31:49.247272Z",
     "iopub.status.busy": "2021-06-04T10:31:49.246828Z",
     "iopub.status.idle": "2021-06-04T10:31:49.266834Z",
     "shell.execute_reply": "2021-06-04T10:31:49.266135Z",
     "shell.execute_reply.started": "2021-06-04T10:31:49.247236Z"
    }
   },
   "outputs": [],
   "source": [
    "sorted(zip(Random_F.feature_importances_,Check_columns),reverse = True)"
   ]
  },
  {
   "cell_type": "code",
   "execution_count": null,
   "metadata": {
    "execution": {
     "iopub.execute_input": "2021-06-04T10:46:41.536900Z",
     "iopub.status.busy": "2021-06-04T10:46:41.536545Z",
     "iopub.status.idle": "2021-06-04T10:46:41.561784Z",
     "shell.execute_reply": "2021-06-04T10:46:41.560323Z",
     "shell.execute_reply.started": "2021-06-04T10:46:41.536868Z"
    }
   },
   "outputs": [],
   "source": [
    "num_columns = []\n",
    "for column in housing.columns:\n",
    "    if housing[column].dtype == int or housing[column].dtype == float:\n",
    "        num_columns.append(column)\n",
    "housing_num = housing[num_columns]\n",
    "housing_cat = housing.drop(num_columns, axis = 1)\n",
    "housing_num.info()"
   ]
  },
  {
   "cell_type": "code",
   "execution_count": null,
   "metadata": {
    "execution": {
     "iopub.execute_input": "2021-06-04T10:46:44.651560Z",
     "iopub.status.busy": "2021-06-04T10:46:44.651225Z",
     "iopub.status.idle": "2021-06-04T10:46:44.674784Z",
     "shell.execute_reply": "2021-06-04T10:46:44.673428Z",
     "shell.execute_reply.started": "2021-06-04T10:46:44.651533Z"
    }
   },
   "outputs": [],
   "source": [
    "housing_cat.info()\n"
   ]
  },
  {
   "cell_type": "code",
   "execution_count": 3,
   "metadata": {},
   "outputs": [],
   "source": [
    "from sklearn.model_selection import StratifiedShuffleSplit\n",
    "Split = StratifiedShuffleSplit(n_splits = 1, test_size = 0.2, random_state = 42)\n",
    "for train_index, test_index in split.split(housing, housing['MSSubClass']):\n",
    "    strat_train_set = housing.loc[train_index]\n",
    "    strat_test_set = housing.loc[test_index]\n",
    "\n",
    "strat_test_set[\"MSSubClass\"].value_counts()/len(strat_test_set)\n"
   ]
  },
  {
   "cell_type": "code",
   "execution_count": null,
   "metadata": {},
   "outputs": [],
   "source": [
    "housing[\"MSSubClass\"].value_counts()/len(housing)"
   ]
  },
  {
   "cell_type": "code",
   "execution_count": null,
   "metadata": {},
   "outputs": [],
   "source": [
    "for set_ in (strat_train_set, strat_test_set):\n",
    "    set_.drop(\"MSSubClass\",axis = 1, inplace = True)"
   ]
  }
 ],
 "metadata": {
  "kernelspec": {
   "display_name": "Python 3",
   "language": "python",
   "name": "python3"
  },
  "language_info": {
   "codemirror_mode": {
    "name": "ipython",
    "version": 3
   },
   "file_extension": ".py",
   "mimetype": "text/x-python",
   "name": "python",
   "nbconvert_exporter": "python",
   "pygments_lexer": "ipython3",
   "version": "3.7.3"
  }
 },
 "nbformat": 4,
 "nbformat_minor": 4
}
